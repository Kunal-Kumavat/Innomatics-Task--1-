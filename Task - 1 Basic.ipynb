{
 "cells": [
  {
   "cell_type": "markdown",
   "id": "cc7a3698",
   "metadata": {},
   "source": [
    "# Task - 1 Basic"
   ]
  },
  {
   "cell_type": "markdown",
   "id": "eb0373b8",
   "metadata": {},
   "source": [
    "### Hello world with python"
   ]
  },
  {
   "cell_type": "code",
   "execution_count": null,
   "id": "6bb434eb",
   "metadata": {},
   "outputs": [],
   "source": [
    "print('Hello World!')"
   ]
  },
  {
   "cell_type": "markdown",
   "id": "19e43944",
   "metadata": {},
   "source": [
    "### Python if-else"
   ]
  },
  {
   "cell_type": "code",
   "execution_count": null,
   "id": "62e0471c",
   "metadata": {},
   "outputs": [],
   "source": [
    "if __name__ == '__main__':\n",
    "    n = int(input().strip())\n",
    "    if n % 2 != 0:\n",
    "        print('Weird')\n",
    "    elif n %2 == 0:\n",
    "        if 2 <= n >= 5 or n > 20:\n",
    "            print('Not Weird')\n",
    "        elif 6 <= n >= 20:\n",
    "            print('Weird')"
   ]
  },
  {
   "cell_type": "markdown",
   "id": "453f5c84",
   "metadata": {},
   "source": [
    "### Arithmatic operators"
   ]
  },
  {
   "cell_type": "code",
   "execution_count": 4,
   "id": "4d559e87",
   "metadata": {},
   "outputs": [
    {
     "name": "stdout",
     "output_type": "stream",
     "text": [
      "2\n",
      "3\n",
      "5\n",
      "-1\n",
      "6\n"
     ]
    }
   ],
   "source": [
    "if __name__ == '__main__':\n",
    "    a = int(input())\n",
    "    b = int(input())\n",
    "    print(a+b)\n",
    "    print(a-b)\n",
    "    print(a*b)"
   ]
  },
  {
   "cell_type": "markdown",
   "id": "cbd69d6e",
   "metadata": {},
   "source": [
    "### Python division"
   ]
  },
  {
   "cell_type": "code",
   "execution_count": null,
   "id": "b5fcda58",
   "metadata": {},
   "outputs": [],
   "source": [
    "if __name__ == '__main__':\n",
    "    a = int(input())\n",
    "    b = int(input())\n",
    "    print(a//b)\n",
    "    print(a/b)"
   ]
  },
  {
   "cell_type": "markdown",
   "id": "a3104d87",
   "metadata": {},
   "source": [
    "### Loops"
   ]
  },
  {
   "cell_type": "code",
   "execution_count": null,
   "id": "9f2090ba",
   "metadata": {},
   "outputs": [],
   "source": [
    "if __name__ == '__main__':\n",
    "    n = int(input())\n",
    "    for i in range(n):\n",
    "        print(i**2)"
   ]
  },
  {
   "cell_type": "markdown",
   "id": "b2f5f3e7",
   "metadata": {},
   "source": [
    "### Write a function"
   ]
  },
  {
   "cell_type": "code",
   "execution_count": null,
   "id": "3498ea88",
   "metadata": {},
   "outputs": [],
   "source": [
    "def is_leap(year):\n",
    "    leap = False\n",
    "    if (year % 4 == 0) & (year % 100 == 0) & (year % 400 == 0):\n",
    "        leap = True\n",
    "    \n",
    "    return leap\n",
    "\n",
    "year = int(input())\n",
    "print(is_leap(year))"
   ]
  },
  {
   "cell_type": "markdown",
   "id": "5cd58fe0",
   "metadata": {},
   "source": [
    "### Print a function"
   ]
  },
  {
   "cell_type": "code",
   "execution_count": null,
   "id": "42f5b14b",
   "metadata": {},
   "outputs": [],
   "source": [
    "if __name__ == '__main__':\n",
    "    n = int(input())\n",
    "    for i in range(1,n+1):\n",
    "        print(i,end='')"
   ]
  }
 ],
 "metadata": {
  "kernelspec": {
   "display_name": "Python 3 (ipykernel)",
   "language": "python",
   "name": "python3"
  },
  "language_info": {
   "codemirror_mode": {
    "name": "ipython",
    "version": 3
   },
   "file_extension": ".py",
   "mimetype": "text/x-python",
   "name": "python",
   "nbconvert_exporter": "python",
   "pygments_lexer": "ipython3",
   "version": "3.10.8"
  }
 },
 "nbformat": 4,
 "nbformat_minor": 5
}
